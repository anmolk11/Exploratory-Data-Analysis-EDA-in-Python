{
 "cells": [
  {
   "cell_type": "code",
   "execution_count": 4,
   "id": "8736e432",
   "metadata": {},
   "outputs": [
    {
     "data": {
      "text/html": [
       "<div>\n",
       "<style scoped>\n",
       "    .dataframe tbody tr th:only-of-type {\n",
       "        vertical-align: middle;\n",
       "    }\n",
       "\n",
       "    .dataframe tbody tr th {\n",
       "        vertical-align: top;\n",
       "    }\n",
       "\n",
       "    .dataframe thead th {\n",
       "        text-align: right;\n",
       "    }\n",
       "</style>\n",
       "<table border=\"1\" class=\"dataframe\">\n",
       "  <thead>\n",
       "    <tr style=\"text-align: right;\">\n",
       "      <th></th>\n",
       "      <th>age</th>\n",
       "      <th>sex</th>\n",
       "      <th>bmi</th>\n",
       "      <th>children</th>\n",
       "      <th>smoker</th>\n",
       "      <th>region</th>\n",
       "      <th>charges</th>\n",
       "    </tr>\n",
       "  </thead>\n",
       "  <tbody>\n",
       "    <tr>\n",
       "      <th>0</th>\n",
       "      <td>19</td>\n",
       "      <td>female</td>\n",
       "      <td>27.900</td>\n",
       "      <td>0</td>\n",
       "      <td>yes</td>\n",
       "      <td>southwest</td>\n",
       "      <td>16884.92400</td>\n",
       "    </tr>\n",
       "    <tr>\n",
       "      <th>1</th>\n",
       "      <td>18</td>\n",
       "      <td>male</td>\n",
       "      <td>33.770</td>\n",
       "      <td>1</td>\n",
       "      <td>no</td>\n",
       "      <td>southeast</td>\n",
       "      <td>1725.55230</td>\n",
       "    </tr>\n",
       "    <tr>\n",
       "      <th>2</th>\n",
       "      <td>28</td>\n",
       "      <td>male</td>\n",
       "      <td>33.000</td>\n",
       "      <td>3</td>\n",
       "      <td>no</td>\n",
       "      <td>southeast</td>\n",
       "      <td>4449.46200</td>\n",
       "    </tr>\n",
       "    <tr>\n",
       "      <th>3</th>\n",
       "      <td>33</td>\n",
       "      <td>male</td>\n",
       "      <td>22.705</td>\n",
       "      <td>0</td>\n",
       "      <td>no</td>\n",
       "      <td>northwest</td>\n",
       "      <td>21984.47061</td>\n",
       "    </tr>\n",
       "    <tr>\n",
       "      <th>4</th>\n",
       "      <td>32</td>\n",
       "      <td>male</td>\n",
       "      <td>28.880</td>\n",
       "      <td>0</td>\n",
       "      <td>no</td>\n",
       "      <td>northwest</td>\n",
       "      <td>3866.85520</td>\n",
       "    </tr>\n",
       "  </tbody>\n",
       "</table>\n",
       "</div>"
      ],
      "text/plain": [
       "   age     sex     bmi  children smoker     region      charges\n",
       "0   19  female  27.900         0    yes  southwest  16884.92400\n",
       "1   18    male  33.770         1     no  southeast   1725.55230\n",
       "2   28    male  33.000         3     no  southeast   4449.46200\n",
       "3   33    male  22.705         0     no  northwest  21984.47061\n",
       "4   32    male  28.880         0     no  northwest   3866.85520"
      ]
     },
     "execution_count": 4,
     "metadata": {},
     "output_type": "execute_result"
    }
   ],
   "source": [
    "import pandas as pd\n",
    "import numpy as np\n",
    "import matplotlib.pyplot as plt\n",
    "import seaborn as sns\n",
    "\n",
    "df = pd.read_csv(\"insurance.csv\")\n",
    "\n",
    "df.head()"
   ]
  },
  {
   "cell_type": "markdown",
   "id": "e340f857",
   "metadata": {},
   "source": [
    "# 1. Univariate Statistics"
   ]
  },
  {
   "cell_type": "markdown",
   "id": "00cd3476",
   "metadata": {},
   "source": [
    "### 1.1 General information"
   ]
  },
  {
   "cell_type": "code",
   "execution_count": 5,
   "id": "3cbec79b",
   "metadata": {},
   "outputs": [
    {
     "name": "stdout",
     "output_type": "stream",
     "text": [
      "Count \n",
      "\n",
      "age : 1338\n",
      "sex : 1338\n",
      "bmi : 1338\n",
      "children : 1338\n",
      "smoker : 1338\n",
      "region : 1338\n",
      "charges : 1338\n",
      "-------\n",
      "Unique Count \n",
      "\n",
      "age : 47\n",
      "sex : 2\n",
      "bmi : 548\n",
      "children : 6\n",
      "smoker : 2\n",
      "region : 4\n",
      "charges : 1337\n",
      "-------\n",
      "Data type \n",
      "\n",
      "age : int64\n",
      "sex : object\n",
      "bmi : float64\n",
      "children : int64\n",
      "smoker : object\n",
      "region : object\n",
      "charges : float64\n",
      "-------\n",
      "Is numeric?\n",
      "\n",
      "age : True\n",
      "sex : False\n",
      "bmi : True\n",
      "children : True\n",
      "smoker : False\n",
      "region : False\n",
      "charges : True\n",
      "-------\n",
      "Null counts\n",
      "\n",
      "age : 0\n",
      "sex : 0\n",
      "bmi : 0\n",
      "children : 0\n",
      "smoker : 0\n",
      "region : 0\n",
      "charges : 0\n"
     ]
    }
   ],
   "source": [
    "cols = df.columns\n",
    "print(\"Count \\n\")\n",
    "for x in cols:\n",
    "    print(f\"{x} : {df[x].count()}\")\n",
    "\n",
    "print(\"-------\")\n",
    "print(\"Unique Count \\n\")\n",
    "for x in cols:\n",
    "#     print(f\"{x} : {df[x].unique().size}\")\n",
    "    print(f\"{x} : {df[x].nunique()}\")\n",
    "\n",
    "print(\"-------\")\n",
    "print(\"Data type \\n\")\n",
    "for x in cols:\n",
    "    print(f\"{x} : {df[x].dtype}\")\n",
    "\n",
    "print(\"-------\")\n",
    "print(\"Is numeric?\\n\")\n",
    "for x in cols:\n",
    "    print(f\"{x} : {pd.api.types.is_numeric_dtype(df[x])}\")\n",
    "\n",
    "print(\"-------\")\n",
    "print(\"Null counts\\n\")\n",
    "for x in cols:\n",
    "    print(f\"{x} : {df[x].isnull().sum()}\")\n"
   ]
  },
  {
   "cell_type": "markdown",
   "id": "51c1b344",
   "metadata": {},
   "source": [
    "### 1.2 Boundaries and Middle"
   ]
  },
  {
   "cell_type": "code",
   "execution_count": 22,
   "id": "96cc58fa",
   "metadata": {},
   "outputs": [
    {
     "data": {
      "text/html": [
       "<div>\n",
       "<style scoped>\n",
       "    .dataframe tbody tr th:only-of-type {\n",
       "        vertical-align: middle;\n",
       "    }\n",
       "\n",
       "    .dataframe tbody tr th {\n",
       "        vertical-align: top;\n",
       "    }\n",
       "\n",
       "    .dataframe thead th {\n",
       "        text-align: right;\n",
       "    }\n",
       "</style>\n",
       "<table border=\"1\" class=\"dataframe\">\n",
       "  <thead>\n",
       "    <tr style=\"text-align: right;\">\n",
       "      <th></th>\n",
       "      <th>age</th>\n",
       "      <th>bmi</th>\n",
       "      <th>children</th>\n",
       "      <th>charges</th>\n",
       "    </tr>\n",
       "  </thead>\n",
       "  <tbody>\n",
       "    <tr>\n",
       "      <th>count</th>\n",
       "      <td>1338.000000</td>\n",
       "      <td>1338.000000</td>\n",
       "      <td>1338.000000</td>\n",
       "      <td>1338.000000</td>\n",
       "    </tr>\n",
       "    <tr>\n",
       "      <th>mean</th>\n",
       "      <td>39.207025</td>\n",
       "      <td>30.663397</td>\n",
       "      <td>1.094918</td>\n",
       "      <td>13270.422265</td>\n",
       "    </tr>\n",
       "    <tr>\n",
       "      <th>std</th>\n",
       "      <td>14.049960</td>\n",
       "      <td>6.098187</td>\n",
       "      <td>1.205493</td>\n",
       "      <td>12110.011237</td>\n",
       "    </tr>\n",
       "    <tr>\n",
       "      <th>min</th>\n",
       "      <td>18.000000</td>\n",
       "      <td>15.960000</td>\n",
       "      <td>0.000000</td>\n",
       "      <td>1121.873900</td>\n",
       "    </tr>\n",
       "    <tr>\n",
       "      <th>25%</th>\n",
       "      <td>27.000000</td>\n",
       "      <td>26.296250</td>\n",
       "      <td>0.000000</td>\n",
       "      <td>4740.287150</td>\n",
       "    </tr>\n",
       "    <tr>\n",
       "      <th>50%</th>\n",
       "      <td>39.000000</td>\n",
       "      <td>30.400000</td>\n",
       "      <td>1.000000</td>\n",
       "      <td>9382.033000</td>\n",
       "    </tr>\n",
       "    <tr>\n",
       "      <th>75%</th>\n",
       "      <td>51.000000</td>\n",
       "      <td>34.693750</td>\n",
       "      <td>2.000000</td>\n",
       "      <td>16639.912515</td>\n",
       "    </tr>\n",
       "    <tr>\n",
       "      <th>max</th>\n",
       "      <td>64.000000</td>\n",
       "      <td>53.130000</td>\n",
       "      <td>5.000000</td>\n",
       "      <td>63770.428010</td>\n",
       "    </tr>\n",
       "  </tbody>\n",
       "</table>\n",
       "</div>"
      ],
      "text/plain": [
       "               age          bmi     children       charges\n",
       "count  1338.000000  1338.000000  1338.000000   1338.000000\n",
       "mean     39.207025    30.663397     1.094918  13270.422265\n",
       "std      14.049960     6.098187     1.205493  12110.011237\n",
       "min      18.000000    15.960000     0.000000   1121.873900\n",
       "25%      27.000000    26.296250     0.000000   4740.287150\n",
       "50%      39.000000    30.400000     1.000000   9382.033000\n",
       "75%      51.000000    34.693750     2.000000  16639.912515\n",
       "max      64.000000    53.130000     5.000000  63770.428010"
      ]
     },
     "execution_count": 22,
     "metadata": {},
     "output_type": "execute_result"
    }
   ],
   "source": [
    "df.describe()"
   ]
  },
  {
   "cell_type": "code",
   "execution_count": 16,
   "id": "ed2e5de4",
   "metadata": {},
   "outputs": [
    {
     "data": {
      "image/png": "[encoded data removed]",
      "text/plain": [
       "<Figure size 640x480 with 1 Axes>"
      ]
     },
     "metadata": {},
     "output_type": "display_data"
    },
    {
     "data": {
      "image/png": "[encoded data removed]",
      "text/plain": [
       "<Figure size 640x480 with 1 Axes>"
      ]
     },
     "metadata": {},
     "output_type": "display_data"
    },
    {
     "data": {
      "image/png": "[encoded data removed]",
      "text/plain": [
       "<Figure size 640x480 with 1 Axes>"
      ]
     },
     "metadata": {},
     "output_type": "display_data"
    },
    {
     "data": {
      "image/png": "[encoded data removed]",
      "text/plain": [
       "<Figure size 640x480 with 1 Axes>"
      ]
     },
     "metadata": {},
     "output_type": "display_data"
    }
   ],
   "source": [
    "i = 1\n",
    "for x in cols:\n",
    "    if pd.api.types.is_numeric_dtype(df[x]):\n",
    "        plt.subplot(2,2,i)\n",
    "        sns.boxplot(data = df,x = x)\n",
    "        plt.show()"
   ]
  },
  {
   "cell_type": "markdown",
   "id": "587d4463",
   "metadata": {},
   "source": [
    "### 1.3 Distribution of data"
   ]
  },
  {
   "cell_type": "code",
   "execution_count": 31,
   "id": "53610b83",
   "metadata": {},
   "outputs": [
    {
     "name": "stdout",
     "output_type": "stream",
     "text": [
      "age : Std dev. = 14.049960379216172\n",
      "age : Mean = 39.20702541106129\n",
      "age : Skew = 0.05567251565299186\n",
      "age : Kurtosis = -1.2450876526418673\n"
     ]
    },
    {
     "data": {
      "image/png": "[encoded data removed]",
      "text/plain": [
       "<Figure size 640x480 with 1 Axes>"
      ]
     },
     "metadata": {},
     "output_type": "display_data"
    },
    {
     "name": "stdout",
     "output_type": "stream",
     "text": [
      "----------------------------\n",
      "bmi : Std dev. = 6.098186911679017\n",
      "bmi : Mean = 30.663396860986538\n",
      "bmi : Skew = 0.2840471105987448\n",
      "bmi : Kurtosis = -0.05073153135467834\n"
     ]
    },
    {
     "data": {
      "image/png": "[encoded data removed]",
      "text/plain": [
       "<Figure size 640x480 with 1 Axes>"
      ]
     },
     "metadata": {},
     "output_type": "display_data"
    },
    {
     "name": "stdout",
     "output_type": "stream",
     "text": [
      "----------------------------\n",
      "children : Std dev. = 1.2054927397819095\n",
      "children : Mean = 1.0949177877429\n",
      "children : Skew = 0.9383804401702414\n",
      "children : Kurtosis = 0.2024541467168901\n"
     ]
    },
    {
     "data": {
      "image/png": "[encoded data removed]",
      "text/plain": [
       "<Figure size 640x480 with 1 Axes>"
      ]
     },
     "metadata": {},
     "output_type": "display_data"
    },
    {
     "name": "stdout",
     "output_type": "stream",
     "text": [
      "----------------------------\n",
      "charges : Std dev. = 12110.011236693994\n",
      "charges : Mean = 13270.422265141257\n",
      "charges : Skew = 1.5158796580240388\n",
      "charges : Kurtosis = 1.6062986532967907\n"
     ]
    },
    {
     "data": {
      "image/png": "[encoded data removed]",
      "text/plain": [
       "<Figure size 640x480 with 1 Axes>"
      ]
     },
     "metadata": {},
     "output_type": "display_data"
    },
    {
     "name": "stdout",
     "output_type": "stream",
     "text": [
      "----------------------------\n"
     ]
    }
   ],
   "source": [
    "from scipy.stats import kurtosis,skew\n",
    "i = 1\n",
    "for x in cols:\n",
    "    if pd.api.types.is_numeric_dtype(df[x]):\n",
    "        plt.subplot(2,2,i)\n",
    "        i += 1\n",
    "        sns.kdeplot(data = df,x = x,shade = True)\n",
    "        print(f\"{x} : Std dev. = {df[x].std()}\")\n",
    "        print(f\"{x} : Mean = {df[x].mean()}\")\n",
    "#         print(f\"{x} : Skew = {skew(df[x],bias = False)}\")\n",
    "#         print(f\"{x} : Kurtosis = {kurtosis(df[x],bias = False)}\")\n",
    "        print(f\"{x} : Skew = {df[x].skew()}\")\n",
    "        print(f\"{x} : Kurtosis = {df[x].kurt()}\")\n",
    "        plt.show()\n",
    "        print(\"----------------------------\")"
   ]
  },
  {
   "cell_type": "code",
   "execution_count": 29,
   "id": "11cda702",
   "metadata": {},
   "outputs": [],
   "source": [
    "#If skewness is btw [-1,1] it is not that much skewed and we can take that feature for future purpose.\n",
    "\n",
    "#Kurtosis is NOT a very popular parameter considered for feature selection"
   ]
  }
 ],
 "metadata": {
  "kernelspec": {
   "display_name": "Python 3 (ipykernel)",
   "language": "python",
   "name": "python3"
  },
  "language_info": {
   "codemirror_mode": {
    "name": "ipython",
    "version": 3
   },
   "file_extension": ".py",
   "mimetype": "text/x-python",
   "name": "python",
   "nbconvert_exporter": "python",
   "pygments_lexer": "ipython3",
   "version": "3.9.13"
  }
 },
 "nbformat": 4,
 "nbformat_minor": 5
}
